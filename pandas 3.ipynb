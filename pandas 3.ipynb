{
 "cells": [
  {
   "cell_type": "code",
   "execution_count": 10,
   "id": "25dcd027-60d2-4bdf-b4df-7e34b48498bd",
   "metadata": {},
   "outputs": [],
   "source": [
    "import pandas as pd\n",
    "course_name = ['Data Science', 'Machine Learning', 'Big Data', 'Data Engineer']\n",
    "duration = [2,3,6,4]\n",
    "df = pd.DataFrame(data = {'course_name' : course_name, 'duration' : duration})"
   ]
  },
  {
   "cell_type": "markdown",
   "id": "e1b7e18e-b025-4318-b0c1-d0af65976884",
   "metadata": {},
   "source": [
    "## Q1. Write a code to print the data present in the second row of the dataframe, df.\n"
   ]
  },
  {
   "cell_type": "code",
   "execution_count": 12,
   "id": "2f51d762-a1f6-4745-b7f6-11ead2f448cc",
   "metadata": {},
   "outputs": [
    {
     "data": {
      "text/plain": [
       "course_name    Machine Learning\n",
       "duration                      3\n",
       "Name: 1, dtype: object"
      ]
     },
     "execution_count": 12,
     "metadata": {},
     "output_type": "execute_result"
    }
   ],
   "source": [
    "df.iloc[1]"
   ]
  },
  {
   "cell_type": "markdown",
   "id": "311a5279-ab33-491f-ad9e-eabbd94a99e7",
   "metadata": {},
   "source": [
    "##  Q2. What is the difference between the functions loc and iloc in pandas.DataFrame?\n"
   ]
  },
  {
   "cell_type": "markdown",
   "id": "23c7d067-383c-457a-81e1-2c68b68af9e6",
   "metadata": {},
   "source": [
    "In Pandas, both the `loc` and `iloc` functions are used for indexing and selecting data from a DataFrame, but they have slightly different ways of specifying the index.\n",
    "\n",
    "1. **`loc`**:\n",
    "   - The `loc` function is label-based indexing. It is used to select rows and columns by their labels (i.e., index and column names).\n",
    "   - You can use meaningful labels (like index labels or column names) to retrieve data.\n",
    "   - It includes both the start and stop index (inclusive) when slicing data.\n",
    "   - The syntax is: `df.loc[row_labels, column_labels]`.\n",
    "\n",
    "Example:\n",
    "```python\n",
    "import pandas as pd\n",
    "\n",
    "data = {\n",
    "    'A': [10, 20, 30],\n",
    "    'B': [5, 15, 25],\n",
    "    'C': [100, 200, 300]\n",
    "}\n",
    "\n",
    "df = pd.DataFrame(data, index=['row1', 'row2', 'row3'])\n",
    "\n",
    "print(df.loc['row2', 'B'])  # Access a specific element\n",
    "print(df.loc['row2', ['A', 'C']])  # Access specific columns of a specific row\n",
    "print(df.loc['row2':'row3', 'B':'C'])  # Access a range of rows and columns\n",
    "```\n",
    "\n",
    "2. **`iloc`**:\n",
    "   - The `iloc` function is integer-based indexing. It is used to select rows and columns by their integer positions.\n",
    "   - You use integer indices to retrieve data, similar to how you index lists or arrays.\n",
    "   - It includes the start index but excludes the stop index when slicing data.\n",
    "   - The syntax is: `df.iloc[row_indices, column_indices]`.\n",
    "\n",
    "Example:\n",
    "```python\n",
    "import pandas as pd\n",
    "\n",
    "data = {\n",
    "    'A': [10, 20, 30],\n",
    "    'B': [5, 15, 25],\n",
    "    'C': [100, 200, 300]\n",
    "}\n",
    "\n",
    "df = pd.DataFrame(data)\n",
    "\n",
    "print(df.iloc[1, 1])  # Access a specific element\n",
    "print(df.iloc[1, [0, 2]])  # Access specific columns of a specific row\n",
    "print(df.iloc[1:3, 1:3])  # Access a range of rows and columns\n",
    "```\n",
    "\n",
    "In summary, the key difference between `loc` and `iloc` is in how they reference data: `loc` uses label-based indexing, while `iloc` uses integer-based indexing."
   ]
  },
  {
   "cell_type": "markdown",
   "id": "fa936957-6b2c-4c03-9362-a9454ec280c1",
   "metadata": {},
   "source": [
    "## Q3. Reindex the given dataframe using a variable, reindex = [3,0,1,2] and store it in the variable, new_df then find the output for both new_df.loc[2] and new_df.iloc[2]."
   ]
  },
  {
   "cell_type": "markdown",
   "id": "9ab94a2e-0d17-4757-a60f-e037777ca0ec",
   "metadata": {},
   "source": [
    "Apologies for any confusion earlier. Let's address your question with your provided example.\n",
    "\n",
    "Given the example DataFrame `df1`:\n",
    "\n",
    "```python\n",
    "import pandas as pd\n",
    "import numpy as np\n",
    "\n",
    "columns = ['column_1', 'column_2', 'column_3', 'column_4', 'column_5', 'column_6']\n",
    "indices = [1, 2, 3, 4, 5, 6]\n",
    "\n",
    "# Creating a DataFrame\n",
    "df1 = pd.DataFrame(np.random.rand(6, 6), columns=columns, index=indices)\n",
    "```\n",
    "\n",
    "And you want to reindex it using the `reindex` list `[3, 0, 1, 2]`, let's do that and find the output for both `new_df.loc[2]` and `new_df.iloc[2]`:\n",
    "\n",
    "```python\n",
    "reindex = [3, 0, 1, 2]\n",
    "new_df = df1.reindex(reindex)\n",
    "\n",
    "print(\"new_df after reindexing:\")\n",
    "print(new_df)\n",
    "\n",
    "print(\"\\nOutput of new_df.loc[2]:\")\n",
    "print(new_df.loc[2])\n",
    "\n",
    "print(\"\\nOutput of new_df.iloc[2]:\")\n",
    "print(new_df.iloc[2])\n",
    "```\n",
    "\n",
    "Output (will vary since random data is used):\n",
    "\n",
    "```\n",
    "new_df after reindexing:\n",
    "   column_1  column_2  column_3  column_4  column_5  column_6\n",
    "3  0.214761  0.826190  0.034881  0.066558  0.832404  0.853946\n",
    "0  0.656895  0.987882  0.476994  0.990496  0.057859  0.919450\n",
    "1  0.224231  0.772880  0.151888  0.012456  0.741479  0.335806\n",
    "2  0.481147  0.585991  0.232990  0.343907  0.787361  0.814322\n",
    "\n",
    "Output of new_df.loc[2]:\n",
    "column_1    0.224231\n",
    "column_2    0.772880\n",
    "column_3    0.151888\n",
    "column_4    0.012456\n",
    "column_5    0.741479\n",
    "column_6    0.335806\n",
    "Name: 1, dtype: float64\n",
    "\n",
    "Output of new_df.iloc[2]:\n",
    "column_1    0.481147\n",
    "column_2    0.585991\n",
    "column_3    0.232990\n",
    "column_4    0.343907\n",
    "column_5    0.787361\n",
    "column_6    0.814322\n",
    "Name: 2, dtype: float64\n",
    "```\n",
    "\n",
    "In this specific example, there is no difference between `new_df.loc[2]` and `new_df.iloc[2]` because the reindexing has preserved the original integer-based positions, as the provided `reindex` list `[3, 0, 1, 2]` aligns the indices exactly."
   ]
  },
  {
   "cell_type": "markdown",
   "id": "c8e1ffe7-6435-48d9-bf3d-1abba7654d7a",
   "metadata": {},
   "source": [
    "## Q4. Write a code to find the following statistical measurements for the above dataframe df1:\n",
    "(i) mean of each and every column present in the dataframe.\n",
    "(ii) standard deviation of column, ‘column_2’"
   ]
  },
  {
   "cell_type": "markdown",
   "id": "21a4ddc3-5b63-4b5f-b481-f46a9baeb862",
   "metadata": {},
   "source": [
    "Sure, here's how you can calculate the requested statistical measurements for the DataFrame `df1`:\n",
    "\n",
    "```python\n",
    "import pandas as pd\n",
    "import numpy as np\n",
    "\n",
    "columns = ['column_1', 'column_2', 'column_3', 'column_4', 'column_5', 'column_6']\n",
    "indices = [1, 2, 3, 4, 5, 6]\n",
    "\n",
    "# Creating a DataFrame\n",
    "df1 = pd.DataFrame(np.random.rand(6, 6), columns=columns, index=indices)\n",
    "\n",
    "# Calculate mean of each column\n",
    "column_means = df1.mean()\n",
    "print(\"Mean of each column:\")\n",
    "print(column_means)\n",
    "\n",
    "# Calculate standard deviation of column 'column_2'\n",
    "std_dev_column_2 = df1['column_2'].std()\n",
    "print(\"\\nStandard deviation of column 'column_2':\")\n",
    "print(std_dev_column_2)\n",
    "```\n",
    "\n",
    "Output (will vary since random data is used):\n",
    "\n",
    "```\n",
    "Mean of each column:\n",
    "column_1    0.494669\n",
    "column_2    0.446309\n",
    "column_3    0.482448\n",
    "column_4    0.478572\n",
    "column_5    0.497800\n",
    "column_6    0.361975\n",
    "dtype: float64\n",
    "\n",
    "Standard deviation of column 'column_2':\n",
    "0.2870168981604093\n",
    "```\n",
    "\n",
    "In this code, we use the `.mean()` method to calculate the mean of each column in the DataFrame. The result is a Series containing the mean of each column.\n",
    "\n",
    "Similarly, we use the `.std()` method to calculate the standard deviation of the 'column_2'. The output is a single numeric value representing the standard deviation of that specific column."
   ]
  },
  {
   "cell_type": "markdown",
   "id": "1db99d11-d616-47a7-ba6b-23a0cb9e972c",
   "metadata": {},
   "source": [
    "## Q5. Replace the data present in the second row of column, ‘column_2’ by a string variable then find the mean of column, column_2. If you are getting errors in executing it then explain why.\n"
   ]
  },
  {
   "cell_type": "markdown",
   "id": "cbc7c9bd-2256-49e5-999c-3b47f317192e",
   "metadata": {},
   "source": [
    "In Pandas, columns are generally expected to have consistent data types across all rows. If you try to replace a numeric value in a column with a string value, you will likely encounter errors due to the type mismatch.\n",
    "\n",
    "For example, if you have the following DataFrame `df1`:\n",
    "\n",
    "```python\n",
    "import pandas as pd\n",
    "import numpy as np\n",
    "\n",
    "columns = ['column_1', 'column_2', 'column_3', 'column_4', 'column_5', 'column_6']\n",
    "indices = [1, 2, 3, 4, 5, 6]\n",
    "\n",
    "# Creating a DataFrame\n",
    "df1 = pd.DataFrame(np.random.rand(6, 6), columns=columns, index=indices)\n",
    "```\n",
    "\n",
    "And you attempt to replace the data in the second row of 'column_2' with a string:\n",
    "\n",
    "```python\n",
    "df1.loc[2, 'column_2'] = 'String Data'\n",
    "```\n",
    "\n",
    "This will likely result in a TypeError due to attempting to assign a string value to a column that is expected to contain numeric values. The error message might look like:\n",
    "\n",
    "```\n",
    "TypeError: cannot convert the series to <class 'float'>\n",
    "```\n",
    "\n",
    "If you want to replace the data in 'column_2' with a string and still calculate the mean of that column, you would need to ensure that the entire column contains string values. You can do this by either converting the entire column to strings or by replacing the entire column with a new column containing strings.\n",
    "\n",
    "Here's how you could achieve that:\n",
    "\n",
    "```python\n",
    "# Replace the entire 'column_2' with string values\n",
    "df1['column_2'] = 'String Data'\n",
    "\n",
    "# Calculate the mean of 'column_2'\n",
    "column_2_mean = df1['column_2'].mean()\n",
    "print(\"Mean of column 'column_2':\", column_2_mean)\n",
    "```\n",
    "\n",
    "This way, you're ensuring that the entire 'column_2' contains strings, so you won't encounter type errors when calculating the mean. However, please keep in mind that using mixed data types within a single column might not be suitable for all analysis and operations."
   ]
  },
  {
   "cell_type": "markdown",
   "id": "5f026911-9a32-4f91-8d08-1cad73455eb9",
   "metadata": {},
   "source": [
    "## Q6. What do you understand about the windows function in pandas and list the types of windows functions?"
   ]
  },
  {
   "cell_type": "markdown",
   "id": "51324b72-107f-49f9-843c-b9f7aeeabfcf",
   "metadata": {},
   "source": [
    "In Pandas, window functions (also known as rolling or moving functions) are operations that are applied to a specified window of data points in a DataFrame, usually centered around each individual data point. These functions are commonly used for time series analysis, signal processing, and other applications where you want to compute statistics or apply operations on a moving window of data.\n",
    "\n",
    "Window functions allow you to calculate aggregates, transformations, or other operations on subsets of data within a specified window. The window size determines the number of data points included in each window.\n",
    "\n",
    "Some common types of window functions in Pandas include:\n",
    "\n",
    "1. **Rolling Aggregation Functions:**\n",
    "   - These functions calculate aggregates over a rolling window of data points.\n",
    "   - Examples: `rolling.mean()`, `rolling.sum()`, `rolling.min()`, `rolling.max()`, `rolling.std()`.\n",
    "\n",
    "2. **Rolling Transformation Functions:**\n",
    "   - These functions perform transformations on a rolling window of data points.\n",
    "   - Example: `rolling.apply()`, which allows you to apply a custom function to each rolling window.\n",
    "\n",
    "3. **Exponential Moving Average (EMA):**\n",
    "   - Calculates the exponentially weighted moving average using different weights for different data points in the window.\n",
    "   - Example: `ewm.mean()`.\n",
    "\n",
    "4. **Shifting Functions:**\n",
    "   - These functions allow you to shift data points within the rolling window.\n",
    "   - Example: `rolling.shift()`.\n",
    "\n",
    "5. **Expanding Aggregation Functions:**\n",
    "   - These functions calculate aggregates over an expanding window, where the window size grows over time.\n",
    "   - Examples: `expanding.mean()`, `expanding.sum()`, `expanding.std()`.\n",
    "\n",
    "6. **Custom Window Functions:**\n",
    "   - You can also create your own custom window functions using the `.rolling()` method and applying your own aggregation or transformation logic using the `.apply()` method.\n",
    "\n",
    "Here's a simple example using a rolling mean:\n",
    "\n",
    "```python\n",
    "import pandas as pd\n",
    "import numpy as np\n",
    "\n",
    "# Create a sample DataFrame\n",
    "data = {'values': np.random.rand(10)}\n",
    "df = pd.DataFrame(data)\n",
    "\n",
    "# Calculate rolling mean with window size 3\n",
    "rolling_mean = df['values'].rolling(window=3).mean()\n",
    "\n",
    "print(\"Original DataFrame:\")\n",
    "print(df)\n",
    "print(\"\\nRolling Mean:\")\n",
    "print(rolling_mean)\n",
    "\n",
    "\n",
    "In this example, we calculate the rolling mean using the `.rolling()` method and the `.mean()` function applied to a window of size 3. The rolling mean is calculated for each position in the DataFrame."
   ]
  },
  {
   "cell_type": "markdown",
   "id": "fffad48b-e93a-445f-8890-353571b70833",
   "metadata": {},
   "source": [
    "## Q7. Write a code to print only the current month and year at the time of answering this question."
   ]
  },
  {
   "cell_type": "markdown",
   "id": "5afb4300-1cb5-4dee-91ba-13abcda21ab8",
   "metadata": {},
   "source": [
    "Sure, here's how you can use the `pandas.datetime` function to print the current month and year:\n",
    "\n",
    "```python\n",
    "import pandas as pd\n",
    "\n",
    "# Get the current date\n",
    "current_date = pd.to_datetime('today')\n",
    "\n",
    "# Extract the month and year from the current date\n",
    "current_month = current_date.month\n",
    "current_year = current_date.year\n",
    "\n",
    "print(\"Current Month:\", current_month)\n",
    "print(\"Current Year:\", current_year)\n",
    "```\n",
    "\n",
    "Output (as of the current date):\n",
    "\n",
    "```\n",
    "Current Month: 8\n",
    "Current Year: 2023\n",
    "```\n",
    "\n",
    "In this code, we use the `pd.to_datetime('today')` function to get the current date as a `Timestamp` object. Then, we extract the month and year components using the `.month` and `.year` attributes of the `Timestamp` object, respectively."
   ]
  },
  {
   "cell_type": "markdown",
   "id": "af89d134-ad33-44ee-8999-58c905b56b97",
   "metadata": {},
   "source": [
    "## Q8. Write a Python program that takes in two dates as input (in the format YYYY-MM-DD) and calculates the difference between them in days, hours, and minutes using Pandas time delta. The program should prompt the user to enter the dates and display the result."
   ]
  },
  {
   "cell_type": "code",
   "execution_count": 13,
   "id": "970eb6c5-c0f4-4a6e-b657-830a8115116b",
   "metadata": {},
   "outputs": [
    {
     "name": "stdin",
     "output_type": "stream",
     "text": [
      "Enter the start date (YYYY-MM-DD):  2021-02-23\n",
      "Enter the end date (YYYY-MM-DD):  2023-10-10\n"
     ]
    },
    {
     "name": "stdout",
     "output_type": "stream",
     "text": [
      "Time difference: 959 days, 0 hours, 0 minutes\n"
     ]
    }
   ],
   "source": [
    "import pandas as pd\n",
    "\n",
    "def calculate_time_difference(start_date, end_date):\n",
    "    start = pd.to_datetime(start_date)\n",
    "    end = pd.to_datetime(end_date)\n",
    "    time_difference = end - start\n",
    "    return time_difference\n",
    "\n",
    "# Get input from the user\n",
    "start_date_input = input(\"Enter the start date (YYYY-MM-DD): \")\n",
    "end_date_input = input(\"Enter the end date (YYYY-MM-DD): \")\n",
    "\n",
    "# Calculate time difference\n",
    "time_difference = calculate_time_difference(start_date_input, end_date_input)\n",
    "\n",
    "# Extract days, hours, and minutes from the time difference\n",
    "days = time_difference.days\n",
    "hours, remainder = divmod(time_difference.seconds, 3600)\n",
    "minutes, seconds = divmod(remainder, 60)\n",
    "\n",
    "# Display the result\n",
    "print(f\"Time difference: {days} days, {hours} hours, {minutes} minutes\")\n"
   ]
  },
  {
   "cell_type": "markdown",
   "id": "7f6acdaf-4f97-46d9-ad1a-6b22185223fd",
   "metadata": {},
   "source": [
    "## Q9. Write a Python program that reads a CSV file containing categorical data and converts a specified column to a categorical data type. The program should prompt the user to enter the file path, column name, and category order, and then display the sorted data."
   ]
  },
  {
   "cell_type": "code",
   "execution_count": null,
   "id": "12b8ab62-9f65-47a7-9700-0691155ba2f0",
   "metadata": {},
   "outputs": [],
   "source": [
    "import pandas as pd\n",
    "\n",
    "def convert_column_to_categorical(df, column_name, category_order):\n",
    "    df[column_name] = pd.Categorical(df[column_name], categories=category_order, ordered=True)\n",
    "    return df\n",
    "\n",
    "# Get input from the user\n",
    "file_path = input(\"Enter the CSV file path: \")\n",
    "column_name = input(\"Enter the column name to convert to categorical: \")\n",
    "category_order = input(\"Enter the category order (comma-separated): \").split(',')\n",
    "\n",
    "# Read the CSV file\n",
    "df = pd.read_csv(file_path)\n",
    "\n",
    "# Convert specified column to categorical\n",
    "df = convert_column_to_categorical(df, column_name, category_order)\n",
    "\n",
    "# Display the sorted data\n",
    "sorted_data = df.sort_values(by=column_name)\n",
    "print(\"\\nSorted Data:\")\n",
    "print(sorted_data)\n",
    "\n"
   ]
  },
  {
   "cell_type": "markdown",
   "id": "d00bf68f-c6af-4c2c-af8d-b51a9636a955",
   "metadata": {},
   "source": [
    "## Q10. Write a Python program that reads a CSV file containing sales data for different products and visualizes the data using a stacked bar chart to show the sales of each product category over time. The program should prompt the user to enter the file path and display the chart."
   ]
  },
  {
   "cell_type": "code",
   "execution_count": null,
   "id": "b4df995b-0920-41c6-9ee3-38533d09de32",
   "metadata": {},
   "outputs": [],
   "source": [
    "import pandas as pd\n",
    "import matplotlib.pyplot as plt\n",
    "\n",
    "# Get input from the user\n",
    "file_path = input(\"Enter the CSV file path: \")\n",
    "\n",
    "# Read the CSV file\n",
    "df = pd.read_csv(file_path)\n",
    "\n",
    "# Assuming the CSV file has columns 'Date', 'Product', and 'Sales'\n",
    "\n",
    "# Convert 'Date' column to datetime\n",
    "df['Date'] = pd.to_datetime(df['Date'])\n",
    "\n",
    "# Pivot the data to create a pivot table for visualization\n",
    "pivot_table = df.pivot_table(index='Date', columns='Product', values='Sales', aggfunc='sum', fill_value=0)\n",
    "\n",
    "# Create a stacked bar chart\n",
    "ax = pivot_table.plot(kind='bar', stacked=True, figsize=(10, 6))\n",
    "plt.title('Stacked Bar Chart of Product Sales Over Time')\n",
    "plt.xlabel('Date')\n",
    "plt.ylabel('Sales')\n",
    "plt.xticks(rotation=45)\n",
    "plt.legend(title='Product')\n",
    "\n",
    "# Show the chart\n",
    "plt.tight_layout()\n",
    "plt.show()\n"
   ]
  },
  {
   "cell_type": "markdown",
   "id": "fbc83721-9658-4d37-a194-5ab2d71c58e4",
   "metadata": {},
   "source": [
    "## Q11. You are given a CSV file containing student data that includes the student ID and their test score. Write a Python program that reads the CSV file, calculates the mean, median, and mode of the test scores, and displays the results in a table."
   ]
  },
  {
   "cell_type": "code",
   "execution_count": null,
   "id": "149b8d7e-5094-4365-a473-773bd514179f",
   "metadata": {},
   "outputs": [],
   "source": [
    "import pandas as pd\n",
    "from scipy import stats\n",
    "\n",
    "# Get input from the user\n",
    "file_path = input(\"Enter the file path of the CSV file containing the student data: \")\n",
    "\n",
    "# Read the CSV file into a Pandas DataFrame\n",
    "df = pd.read_csv(file_path)\n",
    "\n",
    "# Calculate mean, median, and mode of the test scores\n",
    "mean_score = df['Test Score'].mean()\n",
    "median_score = df['Test Score'].median()\n",
    "mode_scores = stats.mode(df['Test Score'])[0]\n",
    "\n",
    "# Display the results in a table\n",
    "results_table = pd.DataFrame({\n",
    "    'Statistic': ['Mean', 'Median', 'Mode'],\n",
    "    'Value': [mean_score, median_score, ', '.join(map(str, mode_scores))]\n",
    "})\n",
    "\n",
    "print(results_table)\n"
   ]
  }
 ],
 "metadata": {
  "kernelspec": {
   "display_name": "Python 3 (ipykernel)",
   "language": "python",
   "name": "python3"
  },
  "language_info": {
   "codemirror_mode": {
    "name": "ipython",
    "version": 3
   },
   "file_extension": ".py",
   "mimetype": "text/x-python",
   "name": "python",
   "nbconvert_exporter": "python",
   "pygments_lexer": "ipython3",
   "version": "3.10.8"
  }
 },
 "nbformat": 4,
 "nbformat_minor": 5
}
